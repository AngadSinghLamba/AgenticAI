{
 "cells": [
  {
   "cell_type": "code",
   "execution_count": 1,
   "metadata": {},
   "outputs": [],
   "source": [
    "import os\n",
    "from dotenv import load_dotenv\n",
    "load_dotenv()\n",
    "\n",
    "os.environ[\"GROQ_API_KEY\"]=os.getenv(\"GROQ_API_KEY\")"
   ]
  },
  {
   "cell_type": "code",
   "execution_count": 2,
   "metadata": {},
   "outputs": [],
   "source": [
    "from langchain_groq import ChatGroq\n",
    "\n",
    "llm=ChatGroq(model=\"qwen-2.5-32b\")"
   ]
  },
  {
   "cell_type": "code",
   "execution_count": 4,
   "metadata": {},
   "outputs": [],
   "source": [
    "from langchain_core.tools import tool\n",
    "\n",
    "@tool\n",
    "def serp_search(query: str):\n",
    "    \"\"\"web search\"\"\"\n",
    "    # Import necessary libraries (e.g., requests for HTTP requests)\n",
    "    import requests\n",
    "\n",
    "    # Set your SerpAPI key\n",
    "    api_key = \"eec8e470a7a67107d702a62db02f8c7425a5bbc80320ad8008c7e7ba58aa9651\"\n",
    "\n",
    "    # Construct the API request\n",
    "    params = {\n",
    "        \"q\": query,\n",
    "        \"api_key\": api_key,\n",
    "        # Other parameters like location, etc., if needed\n",
    "    }\n",
    "\n",
    "    # Make the request\n",
    "    response = requests.get(\"https://serpapi.com/search\", params=params)\n",
    "\n",
    "    # Process the response\n",
    "    if response.status_code == 200:\n",
    "        data = response.json()\n",
    "        # Extract and return relevant information from the search results\n",
    "        return data[\"organic_results\"][0][\"title\"]\n",
    "    else:\n",
    "        return \"Failed to retrieve results\"\n"
   ]
  },
  {
   "cell_type": "code",
   "execution_count": 8,
   "metadata": {},
   "outputs": [
    {
     "name": "stdout",
     "output_type": "stream",
     "text": [
      "I encountered an issue while trying to fetch the latest news on GenAI. Could you please try again later or ask another question?\n"
     ]
    }
   ],
   "source": [
    "from langgraph.prebuilt import create_react_agent\n",
    "from langgraph.checkpoint.memory import MemorySaver\n",
    "\n",
    "\n",
    "# Define tools\n",
    "tools = [serp_search]  # Assuming serp_search is defined as above\n",
    "\n",
    "# Initialize the model\n",
    "model = llm.bind_tools(tools)\n",
    "\n",
    "# Initialize memory\n",
    "checkpointer = MemorySaver()\n",
    "\n",
    "# Create the agent\n",
    "app = create_react_agent(model, tools, checkpointer=checkpointer)\n",
    "\n",
    "# Use the agent\n",
    "final_state = app.invoke(\n",
    "    {\"messages\": [{\"role\": \"user\", \"content\": \"What is the latest news on GenAI?\"}]},\n",
    "    config={\"configurable\": {\"thread_id\": 42}}\n",
    ")\n",
    "\n",
    "# Process the final state to get the answer\n",
    "final_answer = final_state[\"messages\"][-1].content\n",
    "print(final_answer)\n"
   ]
  },
  {
   "cell_type": "code",
   "execution_count": null,
   "metadata": {},
   "outputs": [],
   "source": []
  }
 ],
 "metadata": {
  "kernelspec": {
   "display_name": "agenticai_env",
   "language": "python",
   "name": "python3"
  },
  "language_info": {
   "codemirror_mode": {
    "name": "ipython",
    "version": 3
   },
   "file_extension": ".py",
   "mimetype": "text/x-python",
   "name": "python",
   "nbconvert_exporter": "python",
   "pygments_lexer": "ipython3",
   "version": "3.11.0"
  }
 },
 "nbformat": 4,
 "nbformat_minor": 2
}
