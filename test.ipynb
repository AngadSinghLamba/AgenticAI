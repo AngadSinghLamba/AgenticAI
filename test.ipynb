{
 "cells": [
  {
   "cell_type": "code",
   "execution_count": 16,
   "metadata": {},
   "outputs": [
    {
     "data": {
      "image/png": "[encoded data removed]",
      "text/plain": [
       "<IPython.core.display.Image object>"
      ]
     },
     "metadata": {},
     "output_type": "display_data"
    }
   ],
   "source": [
    "from typing_extensions import TypedDict\n",
    "from typing import Literal\n",
    "\n",
    "class State(TypedDict):\n",
    "    graph_state:str\n",
    "\n",
    "def first_node(state):\n",
    "    return {\"graph_state\":state['graph_state']+\"Firstnode\"}\n",
    "\n",
    "def second_node(state):\n",
    "    return {\"graph_state\":state['graph_state']+\"Second node\"}\n",
    "\n",
    "def third_node(state):\n",
    "    return {\"graph_state\":state['graph_state']+\"Third node\"}\n",
    "\n",
    "import random\n",
    "\n",
    "def condition(state:State)->Literal['second','third']:\n",
    "    graph_state=state['graph_state']\n",
    "    if random.random()>0.5:\n",
    "        return \"second\"\n",
    "    else:\n",
    "        return \"third\"\n",
    "\n",
    "\n",
    "from langgraph.graph import START,END,StateGraph\n",
    "\n",
    "builder=StateGraph(State)\n",
    "\n",
    "builder.add_node(\"first\",first_node)\n",
    "builder.add_node(\"second\",second_node)\n",
    "builder.add_node(\"third\",third_node)\n",
    "builder.add_edge(START,\"first\")\n",
    "builder.add_conditional_edges(\"first\",condition)\n",
    "builder.add_edge(\"second\",END)\n",
    "builder.add_edge(\"third\",END)\n",
    "\n",
    "from IPython.display import Image,display\n",
    "\n",
    "graph=builder.compile()\n",
    "\n",
    "display(Image(graph.get_graph().draw_mermaid_png()))"
   ]
  },
  {
   "cell_type": "code",
   "execution_count": 17,
   "metadata": {},
   "outputs": [
    {
     "data": {
      "text/plain": [
       "{'graph_state': 'HiFirstnodeThird node'}"
      ]
     },
     "execution_count": 17,
     "metadata": {},
     "output_type": "execute_result"
    }
   ],
   "source": [
    "graph.invoke({\"graph_state\":'Hi'})"
   ]
  },
  {
   "cell_type": "code",
   "execution_count": null,
   "metadata": {},
   "outputs": [],
   "source": [
    "from typing_extensions import TypedDict\n",
    "from langgraph.graph.message import add_messages\n",
    "from typing import Annotated\n",
    "from langchain_groq import ChatGroq\n",
    "from langgraph.graph import START,END,StateGraph\n",
    "\n",
    "\n",
    "\n",
    "import os\n",
    "from dotenv import load_dotenv\n",
    "\n",
    "load_dotenv()\n",
    "os.environ[\"GROQ_API_KEY\"]=os.getenv(\"GROQ_API_KEY\")\n",
    "\n",
    "\n",
    "llm=ChatGroq()\n",
    "\n",
    "\n",
    "class State(TypedDict):\n",
    "    messages:Annotated[list,add_messages]\n",
    "\n",
    "def chatbot(state:State):\n",
    "    return {\"messages\":[llm.invoke(state['messages'])]}\n",
    "\n",
    "\n",
    "\n"
   ]
  }
 ],
 "metadata": {
  "kernelspec": {
   "display_name": "agenticai_env",
   "language": "python",
   "name": "python3"
  },
  "language_info": {
   "codemirror_mode": {
    "name": "ipython",
    "version": 3
   },
   "file_extension": ".py",
   "mimetype": "text/x-python",
   "name": "python",
   "nbconvert_exporter": "python",
   "pygments_lexer": "ipython3",
   "version": "3.11.0"
  }
 },
 "nbformat": 4,
 "nbformat_minor": 2
}
